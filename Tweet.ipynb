{
 "cells": [
  {
   "cell_type": "markdown",
   "metadata": {},
   "source": [
    "# Twittern Airlines sentiment Analysis"
   ]
  },
  {
   "cell_type": "markdown",
   "metadata": {},
   "source": [
    "The data is collected from https://www.kaggle.com/crowdflower/twitter-airline-sentimentording \n",
    "According to the original source \"A sentiment analysis job about the problems of each major U.S. airline. Twitter data was scraped from February of 2015 and contributors were asked to first classify positive, negative, and neutral tweets, followed by categorizing negative reasons (such as \"late flight\" or \"rude service\")\". \n",
    "\n",
    "Our job is to analyze the sentiment and predict the category of the sentiment as \"positive\",\"negative\",\"neutral\""
   ]
  },
  {
   "cell_type": "code",
   "execution_count": 68,
   "metadata": {},
   "outputs": [],
   "source": [
    "from __future__ import print_function\n",
    "import sys\n",
    "%matplotlib inline\n",
    "import pandas as pd\n",
    "import itertools\n",
    "import numpy as np\n",
    "import seaborn as sns\n",
    "import matplotlib.pyplot as plt\n",
    "sns.set()\n",
    "import re\n",
    "from sklearn.ensemble import RandomForestClassifier\n",
    "from sklearn.svm import LinearSVC\n",
    "from sklearn.svm import SVC\n",
    "\n",
    "from sklearn.model_selection import GridSearchCV\n",
    "from sklearn.feature_extraction import text\n",
    "from sklearn.pipeline import make_pipeline\n",
    "from sklearn.model_selection import train_test_split\n",
    "from sklearn.metrics import classification_report, accuracy_score, confusion_matrix, roc_curve\n",
    "from sklearn.feature_extraction.text import TfidfVectorizer"
   ]
  },
  {
   "cell_type": "markdown",
   "metadata": {},
   "source": [
    "## Read the csv file"
   ]
  },
  {
   "cell_type": "code",
   "execution_count": 2,
   "metadata": {},
   "outputs": [],
   "source": [
    "input_df= pd.read_csv(\"twitter-airline-sentiment/Tweets.csv\")"
   ]
  },
  {
   "cell_type": "markdown",
   "metadata": {},
   "source": [
    "Check first few rows of the table"
   ]
  },
  {
   "cell_type": "code",
   "execution_count": 201,
   "metadata": {},
   "outputs": [
    {
     "data": {
      "text/html": [
       "<div>\n",
       "<style scoped>\n",
       "    .dataframe tbody tr th:only-of-type {\n",
       "        vertical-align: middle;\n",
       "    }\n",
       "\n",
       "    .dataframe tbody tr th {\n",
       "        vertical-align: top;\n",
       "    }\n",
       "\n",
       "    .dataframe thead th {\n",
       "        text-align: right;\n",
       "    }\n",
       "</style>\n",
       "<table border=\"1\" class=\"dataframe\">\n",
       "  <thead>\n",
       "    <tr style=\"text-align: right;\">\n",
       "      <th></th>\n",
       "      <th>tweet_id</th>\n",
       "      <th>airline_sentiment</th>\n",
       "      <th>airline_sentiment_confidence</th>\n",
       "      <th>negativereason</th>\n",
       "      <th>negativereason_confidence</th>\n",
       "      <th>airline</th>\n",
       "      <th>airline_sentiment_gold</th>\n",
       "      <th>name</th>\n",
       "      <th>negativereason_gold</th>\n",
       "      <th>retweet_count</th>\n",
       "      <th>text</th>\n",
       "      <th>tweet_coord</th>\n",
       "      <th>tweet_created</th>\n",
       "      <th>tweet_location</th>\n",
       "      <th>user_timezone</th>\n",
       "    </tr>\n",
       "  </thead>\n",
       "  <tbody>\n",
       "    <tr>\n",
       "      <th>0</th>\n",
       "      <td>570306133677760513</td>\n",
       "      <td>neutral</td>\n",
       "      <td>1.0000</td>\n",
       "      <td>NaN</td>\n",
       "      <td>NaN</td>\n",
       "      <td>Virgin America</td>\n",
       "      <td>NaN</td>\n",
       "      <td>cairdin</td>\n",
       "      <td>NaN</td>\n",
       "      <td>0</td>\n",
       "      <td>@VirginAmerica What @dhepburn said.</td>\n",
       "      <td>NaN</td>\n",
       "      <td>2015-02-24 11:35:52 -0800</td>\n",
       "      <td>NaN</td>\n",
       "      <td>Eastern Time (US &amp; Canada)</td>\n",
       "    </tr>\n",
       "    <tr>\n",
       "      <th>1</th>\n",
       "      <td>570301130888122368</td>\n",
       "      <td>positive</td>\n",
       "      <td>0.3486</td>\n",
       "      <td>NaN</td>\n",
       "      <td>0.0000</td>\n",
       "      <td>Virgin America</td>\n",
       "      <td>NaN</td>\n",
       "      <td>jnardino</td>\n",
       "      <td>NaN</td>\n",
       "      <td>0</td>\n",
       "      <td>@VirginAmerica plus you've added commercials t...</td>\n",
       "      <td>NaN</td>\n",
       "      <td>2015-02-24 11:15:59 -0800</td>\n",
       "      <td>NaN</td>\n",
       "      <td>Pacific Time (US &amp; Canada)</td>\n",
       "    </tr>\n",
       "    <tr>\n",
       "      <th>2</th>\n",
       "      <td>570301083672813571</td>\n",
       "      <td>neutral</td>\n",
       "      <td>0.6837</td>\n",
       "      <td>NaN</td>\n",
       "      <td>NaN</td>\n",
       "      <td>Virgin America</td>\n",
       "      <td>NaN</td>\n",
       "      <td>yvonnalynn</td>\n",
       "      <td>NaN</td>\n",
       "      <td>0</td>\n",
       "      <td>@VirginAmerica I didn't today... Must mean I n...</td>\n",
       "      <td>NaN</td>\n",
       "      <td>2015-02-24 11:15:48 -0800</td>\n",
       "      <td>Lets Play</td>\n",
       "      <td>Central Time (US &amp; Canada)</td>\n",
       "    </tr>\n",
       "    <tr>\n",
       "      <th>3</th>\n",
       "      <td>570301031407624196</td>\n",
       "      <td>negative</td>\n",
       "      <td>1.0000</td>\n",
       "      <td>Bad Flight</td>\n",
       "      <td>0.7033</td>\n",
       "      <td>Virgin America</td>\n",
       "      <td>NaN</td>\n",
       "      <td>jnardino</td>\n",
       "      <td>NaN</td>\n",
       "      <td>0</td>\n",
       "      <td>@VirginAmerica it's really aggressive to blast...</td>\n",
       "      <td>NaN</td>\n",
       "      <td>2015-02-24 11:15:36 -0800</td>\n",
       "      <td>NaN</td>\n",
       "      <td>Pacific Time (US &amp; Canada)</td>\n",
       "    </tr>\n",
       "    <tr>\n",
       "      <th>4</th>\n",
       "      <td>570300817074462722</td>\n",
       "      <td>negative</td>\n",
       "      <td>1.0000</td>\n",
       "      <td>Can't Tell</td>\n",
       "      <td>1.0000</td>\n",
       "      <td>Virgin America</td>\n",
       "      <td>NaN</td>\n",
       "      <td>jnardino</td>\n",
       "      <td>NaN</td>\n",
       "      <td>0</td>\n",
       "      <td>@VirginAmerica and it's a really big bad thing...</td>\n",
       "      <td>NaN</td>\n",
       "      <td>2015-02-24 11:14:45 -0800</td>\n",
       "      <td>NaN</td>\n",
       "      <td>Pacific Time (US &amp; Canada)</td>\n",
       "    </tr>\n",
       "  </tbody>\n",
       "</table>\n",
       "</div>"
      ],
      "text/plain": [
       "             tweet_id airline_sentiment  airline_sentiment_confidence  \\\n",
       "0  570306133677760513           neutral                        1.0000   \n",
       "1  570301130888122368          positive                        0.3486   \n",
       "2  570301083672813571           neutral                        0.6837   \n",
       "3  570301031407624196          negative                        1.0000   \n",
       "4  570300817074462722          negative                        1.0000   \n",
       "\n",
       "  negativereason  negativereason_confidence         airline  \\\n",
       "0            NaN                        NaN  Virgin America   \n",
       "1            NaN                     0.0000  Virgin America   \n",
       "2            NaN                        NaN  Virgin America   \n",
       "3     Bad Flight                     0.7033  Virgin America   \n",
       "4     Can't Tell                     1.0000  Virgin America   \n",
       "\n",
       "  airline_sentiment_gold        name negativereason_gold  retweet_count  \\\n",
       "0                    NaN     cairdin                 NaN              0   \n",
       "1                    NaN    jnardino                 NaN              0   \n",
       "2                    NaN  yvonnalynn                 NaN              0   \n",
       "3                    NaN    jnardino                 NaN              0   \n",
       "4                    NaN    jnardino                 NaN              0   \n",
       "\n",
       "                                                text tweet_coord  \\\n",
       "0                @VirginAmerica What @dhepburn said.         NaN   \n",
       "1  @VirginAmerica plus you've added commercials t...         NaN   \n",
       "2  @VirginAmerica I didn't today... Must mean I n...         NaN   \n",
       "3  @VirginAmerica it's really aggressive to blast...         NaN   \n",
       "4  @VirginAmerica and it's a really big bad thing...         NaN   \n",
       "\n",
       "               tweet_created tweet_location               user_timezone  \n",
       "0  2015-02-24 11:35:52 -0800            NaN  Eastern Time (US & Canada)  \n",
       "1  2015-02-24 11:15:59 -0800            NaN  Pacific Time (US & Canada)  \n",
       "2  2015-02-24 11:15:48 -0800      Lets Play  Central Time (US & Canada)  \n",
       "3  2015-02-24 11:15:36 -0800            NaN  Pacific Time (US & Canada)  \n",
       "4  2015-02-24 11:14:45 -0800            NaN  Pacific Time (US & Canada)  "
      ]
     },
     "execution_count": 201,
     "metadata": {},
     "output_type": "execute_result"
    }
   ],
   "source": [
    "input_df.head()"
   ]
  },
  {
   "cell_type": "markdown",
   "metadata": {},
   "source": [
    "## Analysing the data and get some insights"
   ]
  },
  {
   "cell_type": "markdown",
   "metadata": {},
   "source": [
    "The shape of the table: rows=14640, columns=15. Each row corresponds to one twitter user."
   ]
  },
  {
   "cell_type": "code",
   "execution_count": 202,
   "metadata": {},
   "outputs": [
    {
     "data": {
      "text/plain": [
       "((14640, 15),\n",
       " Index(['tweet_id', 'airline_sentiment', 'airline_sentiment_confidence',\n",
       "        'negativereason', 'negativereason_confidence', 'airline',\n",
       "        'airline_sentiment_gold', 'name', 'negativereason_gold',\n",
       "        'retweet_count', 'text', 'tweet_coord', 'tweet_created',\n",
       "        'tweet_location', 'user_timezone'],\n",
       "       dtype='object'))"
      ]
     },
     "execution_count": 202,
     "metadata": {},
     "output_type": "execute_result"
    }
   ],
   "source": [
    "input_df.shape, input_df.columns"
   ]
  },
  {
   "cell_type": "markdown",
   "metadata": {},
   "source": [
    "Total number of passengers grouped by airlines"
   ]
  },
  {
   "cell_type": "code",
   "execution_count": 203,
   "metadata": {},
   "outputs": [
    {
     "data": {
      "text/plain": [
       "United            3822\n",
       "US Airways        2913\n",
       "American          2759\n",
       "Southwest         2420\n",
       "Delta             2222\n",
       "Virgin America     504\n",
       "Name: airline, dtype: int64"
      ]
     },
     "execution_count": 203,
     "metadata": {},
     "output_type": "execute_result"
    }
   ],
   "source": [
    "input_df[\"airline\"].value_counts()"
   ]
  },
  {
   "cell_type": "markdown",
   "metadata": {},
   "source": [
    "There are 3 different category of sentiments -\"positive\",\"negative\",\"neutral\""
   ]
  },
  {
   "cell_type": "code",
   "execution_count": 204,
   "metadata": {},
   "outputs": [
    {
     "data": {
      "text/plain": [
       "negative    9178\n",
       "neutral     3099\n",
       "positive    2363\n",
       "Name: airline_sentiment, dtype: int64"
      ]
     },
     "execution_count": 204,
     "metadata": {},
     "output_type": "execute_result"
    }
   ],
   "source": [
    "input_df[\"airline_sentiment\"].value_counts()"
   ]
  },
  {
   "cell_type": "markdown",
   "metadata": {},
   "source": [
    " Checking if there any null entry. Most importantly we care if the \"text\" entry is blank. As foolows there is no empty \"text\" entry. Good for us :). We do not need to deal with missing entry problem."
   ]
  },
  {
   "cell_type": "code",
   "execution_count": 205,
   "metadata": {},
   "outputs": [
    {
     "data": {
      "text/plain": [
       "tweet_id                            0\n",
       "airline_sentiment                   0\n",
       "airline_sentiment_confidence        0\n",
       "negativereason                   5462\n",
       "negativereason_confidence        4118\n",
       "airline                             0\n",
       "airline_sentiment_gold          14600\n",
       "name                                0\n",
       "negativereason_gold             14608\n",
       "retweet_count                       0\n",
       "text                                0\n",
       "tweet_coord                     13621\n",
       "tweet_created                       0\n",
       "tweet_location                   4733\n",
       "user_timezone                    4820\n",
       "dtype: int64"
      ]
     },
     "execution_count": 205,
     "metadata": {},
     "output_type": "execute_result"
    }
   ],
   "source": [
    "input_df.isnull().sum()"
   ]
  },
  {
   "cell_type": "markdown",
   "metadata": {},
   "source": [
    "No of \"postive\", \"negative\" and \"neutral\" sentiments per airline"
   ]
  },
  {
   "cell_type": "code",
   "execution_count": 206,
   "metadata": {},
   "outputs": [
    {
     "data": {
      "text/html": [
       "<div>\n",
       "<style scoped>\n",
       "    .dataframe tbody tr th:only-of-type {\n",
       "        vertical-align: middle;\n",
       "    }\n",
       "\n",
       "    .dataframe tbody tr th {\n",
       "        vertical-align: top;\n",
       "    }\n",
       "\n",
       "    .dataframe thead th {\n",
       "        text-align: right;\n",
       "    }\n",
       "</style>\n",
       "<table border=\"1\" class=\"dataframe\">\n",
       "  <thead>\n",
       "    <tr style=\"text-align: right;\">\n",
       "      <th>airline</th>\n",
       "      <th>American</th>\n",
       "      <th>Delta</th>\n",
       "      <th>Southwest</th>\n",
       "      <th>US Airways</th>\n",
       "      <th>United</th>\n",
       "      <th>Virgin America</th>\n",
       "    </tr>\n",
       "    <tr>\n",
       "      <th>airline_sentiment</th>\n",
       "      <th></th>\n",
       "      <th></th>\n",
       "      <th></th>\n",
       "      <th></th>\n",
       "      <th></th>\n",
       "      <th></th>\n",
       "    </tr>\n",
       "  </thead>\n",
       "  <tbody>\n",
       "    <tr>\n",
       "      <th>negative</th>\n",
       "      <td>1960</td>\n",
       "      <td>955</td>\n",
       "      <td>1186</td>\n",
       "      <td>2263</td>\n",
       "      <td>2633</td>\n",
       "      <td>181</td>\n",
       "    </tr>\n",
       "    <tr>\n",
       "      <th>neutral</th>\n",
       "      <td>463</td>\n",
       "      <td>723</td>\n",
       "      <td>664</td>\n",
       "      <td>381</td>\n",
       "      <td>697</td>\n",
       "      <td>171</td>\n",
       "    </tr>\n",
       "    <tr>\n",
       "      <th>positive</th>\n",
       "      <td>336</td>\n",
       "      <td>544</td>\n",
       "      <td>570</td>\n",
       "      <td>269</td>\n",
       "      <td>492</td>\n",
       "      <td>152</td>\n",
       "    </tr>\n",
       "  </tbody>\n",
       "</table>\n",
       "</div>"
      ],
      "text/plain": [
       "airline            American  Delta  Southwest  US Airways  United  \\\n",
       "airline_sentiment                                                   \n",
       "negative               1960    955       1186        2263    2633   \n",
       "neutral                 463    723        664         381     697   \n",
       "positive                336    544        570         269     492   \n",
       "\n",
       "airline            Virgin America  \n",
       "airline_sentiment                  \n",
       "negative                      181  \n",
       "neutral                       171  \n",
       "positive                      152  "
      ]
     },
     "execution_count": 206,
     "metadata": {},
     "output_type": "execute_result"
    }
   ],
   "source": [
    "sentiments_per_airline=pd.crosstab(input_df[\"airline_sentiment\"],input_df[\"airline\"])\n",
    "sentiments_per_airline"
   ]
  },
  {
   "cell_type": "code",
   "execution_count": 207,
   "metadata": {},
   "outputs": [
    {
     "name": "stderr",
     "output_type": "stream",
     "text": [
      "/anaconda3/lib/python3.7/site-packages/seaborn/categorical.py:3666: UserWarning: The `factorplot` function has been renamed to `catplot`. The original name will be removed in a future release. Please update your code. Note that the default `kind` in `factorplot` (`'point'`) has changed `'strip'` in `catplot`.\n",
      "  warnings.warn(msg)\n"
     ]
    },
    {
     "data": {
      "image/png": "[encoded data removed]",
      "text/plain": [
       "<Figure size 625.675x360 with 1 Axes>"
      ]
     },
     "metadata": {},
     "output_type": "display_data"
    }
   ],
   "source": [
    "palette ={\"positive\":\"C3\",\"negative\":\"C2\",\"neutral\":\"C0\"}\n",
    "with sns.axes_style('white'):\n",
    "     sns.factorplot(\"airline\",data=input_df, aspect=1.5,\\\n",
    "                       hue='airline_sentiment', kind='count',palette=palette)"
   ]
  },
  {
   "cell_type": "markdown",
   "metadata": {},
   "source": [
    "We see from the table \"sentiments_per_airline\" is not a good way of measuring sentiment\n",
    "rating as there are different no of passengers per airline. For example: Virgin America has\n",
    "only 504 total passengers where United has 3822 passengers.\n",
    "\n",
    "A better way to compare ratings is to compute the percent of positive, negative, and neutral ratings."
   ]
  },
  {
   "cell_type": "code",
   "execution_count": 208,
   "metadata": {},
   "outputs": [
    {
     "data": {
      "text/html": [
       "<div>\n",
       "<style scoped>\n",
       "    .dataframe tbody tr th:only-of-type {\n",
       "        vertical-align: middle;\n",
       "    }\n",
       "\n",
       "    .dataframe tbody tr th {\n",
       "        vertical-align: top;\n",
       "    }\n",
       "\n",
       "    .dataframe thead th {\n",
       "        text-align: right;\n",
       "    }\n",
       "</style>\n",
       "<table border=\"1\" class=\"dataframe\">\n",
       "  <thead>\n",
       "    <tr style=\"text-align: right;\">\n",
       "      <th>airline</th>\n",
       "      <th>American</th>\n",
       "      <th>Delta</th>\n",
       "      <th>Southwest</th>\n",
       "      <th>US Airways</th>\n",
       "      <th>United</th>\n",
       "      <th>Virgin America</th>\n",
       "    </tr>\n",
       "    <tr>\n",
       "      <th>airline_sentiment</th>\n",
       "      <th></th>\n",
       "      <th></th>\n",
       "      <th></th>\n",
       "      <th></th>\n",
       "      <th></th>\n",
       "      <th></th>\n",
       "    </tr>\n",
       "  </thead>\n",
       "  <tbody>\n",
       "    <tr>\n",
       "      <th>negative</th>\n",
       "      <td>71.040232</td>\n",
       "      <td>42.979298</td>\n",
       "      <td>49.008264</td>\n",
       "      <td>77.686234</td>\n",
       "      <td>68.890633</td>\n",
       "      <td>35.912698</td>\n",
       "    </tr>\n",
       "    <tr>\n",
       "      <th>neutral</th>\n",
       "      <td>16.781443</td>\n",
       "      <td>32.538254</td>\n",
       "      <td>27.438017</td>\n",
       "      <td>13.079300</td>\n",
       "      <td>18.236525</td>\n",
       "      <td>33.928571</td>\n",
       "    </tr>\n",
       "    <tr>\n",
       "      <th>positive</th>\n",
       "      <td>12.178325</td>\n",
       "      <td>24.482448</td>\n",
       "      <td>23.553719</td>\n",
       "      <td>9.234466</td>\n",
       "      <td>12.872841</td>\n",
       "      <td>30.158730</td>\n",
       "    </tr>\n",
       "  </tbody>\n",
       "</table>\n",
       "</div>"
      ],
      "text/plain": [
       "airline             American      Delta  Southwest  US Airways     United  \\\n",
       "airline_sentiment                                                           \n",
       "negative           71.040232  42.979298  49.008264   77.686234  68.890633   \n",
       "neutral            16.781443  32.538254  27.438017   13.079300  18.236525   \n",
       "positive           12.178325  24.482448  23.553719    9.234466  12.872841   \n",
       "\n",
       "airline            Virgin America  \n",
       "airline_sentiment                  \n",
       "negative                35.912698  \n",
       "neutral                 33.928571  \n",
       "positive                30.158730  "
      ]
     },
     "execution_count": 208,
     "metadata": {},
     "output_type": "execute_result"
    }
   ],
   "source": [
    "p=sentiments_per_airline.apply(lambda x: x/ x.sum() * 100.)\n",
    "p"
   ]
  },
  {
   "cell_type": "code",
   "execution_count": 209,
   "metadata": {},
   "outputs": [
    {
     "data": {
      "text/plain": [
       "Text(0,0.5,'percent of passengers')"
      ]
     },
     "execution_count": 209,
     "metadata": {},
     "output_type": "execute_result"
    },
    {
     "data": {
      "image/png": "[encoded data removed]",
      "text/plain": [
       "<Figure size 720x504 with 1 Axes>"
      ]
     },
     "metadata": {},
     "output_type": "display_data"
    }
   ],
   "source": [
    "my_colors = 'gbred'\n",
    "p.T.plot(kind='bar',figsize=(10, 7),stacked=True,color = my_colors)\n",
    "plt.ylabel(\"percent of passengers\")"
   ]
  },
  {
   "cell_type": "markdown",
   "metadata": {},
   "source": [
    "Let's analyze the reason for giving negative rating. Looking at the following numbers \n",
    "and the plot we can infer that the \"Customer Service Issue\" and \"Late Flight\" play vital role."
   ]
  },
  {
   "cell_type": "code",
   "execution_count": 210,
   "metadata": {},
   "outputs": [
    {
     "data": {
      "text/plain": [
       "Customer Service Issue         2910\n",
       "Late Flight                    1665\n",
       "Can't Tell                     1190\n",
       "Cancelled Flight                847\n",
       "Lost Luggage                    724\n",
       "Bad Flight                      580\n",
       "Flight Booking Problems         529\n",
       "Flight Attendant Complaints     481\n",
       "longlines                       178\n",
       "Damaged Luggage                  74\n",
       "Name: negativereason, dtype: int64"
      ]
     },
     "execution_count": 210,
     "metadata": {},
     "output_type": "execute_result"
    }
   ],
   "source": [
    "input_df[\"negativereason\"].value_counts()"
   ]
  },
  {
   "cell_type": "code",
   "execution_count": 211,
   "metadata": {},
   "outputs": [
    {
     "name": "stderr",
     "output_type": "stream",
     "text": [
      "/anaconda3/lib/python3.7/site-packages/seaborn/categorical.py:3666: UserWarning: The `factorplot` function has been renamed to `catplot`. The original name will be removed in a future release. Please update your code. Note that the default `kind` in `factorplot` (`'point'`) has changed `'strip'` in `catplot`.\n",
      "  warnings.warn(msg)\n"
     ]
    },
    {
     "data": {
      "image/png": "[encoded data removed]",
      "text/plain": [
       "<Figure size 715.225x360 with 1 Axes>"
      ]
     },
     "metadata": {},
     "output_type": "display_data"
    }
   ],
   "source": [
    "df=input_df.groupby(['airline','negativereason'])\n",
    "df = df[\"airline_sentiment\"].value_counts()\n",
    "with sns.axes_style('white'):\n",
    "     sns.factorplot(\"airline\",data=input_df, aspect=1.5,\\\n",
    "                       hue='negativereason', kind='count')"
   ]
  },
  {
   "cell_type": "code",
   "execution_count": 212,
   "metadata": {},
   "outputs": [
    {
     "data": {
      "text/plain": [
       "5462"
      ]
     },
     "execution_count": 212,
     "metadata": {},
     "output_type": "execute_result"
    }
   ],
   "source": [
    "input_df[\"negativereason\"].isnull().sum()"
   ]
  },
  {
   "cell_type": "markdown",
   "metadata": {},
   "source": [
    "Around 40 % = (5462/14640)*100 of the \"negativereason\" rows are empty. Therefore we will use \n",
    "only \"text\" column for our model as X."
   ]
  },
  {
   "cell_type": "markdown",
   "metadata": {},
   "source": [
    "### Data Preprocessing"
   ]
  },
  {
   "cell_type": "code",
   "execution_count": 46,
   "metadata": {},
   "outputs": [],
   "source": [
    "X = input_df['text']\n",
    "y = input_df['airline_sentiment']"
   ]
  },
  {
   "cell_type": "markdown",
   "metadata": {},
   "source": [
    " Split data into train, test"
   ]
  },
  {
   "cell_type": "code",
   "execution_count": 63,
   "metadata": {},
   "outputs": [
    {
     "data": {
      "text/plain": [
       "((7320,), (7320,))"
      ]
     },
     "execution_count": 63,
     "metadata": {},
     "output_type": "execute_result"
    }
   ],
   "source": [
    "X_train, X_test, y_train, y_test = train_test_split(X, y, test_size=0.5, random_state=42)\n",
    "X_train.shape, y_train.shape"
   ]
  },
  {
   "cell_type": "markdown",
   "metadata": {},
   "source": [
    "We will use scikit-learn's feature extraction tool:\n",
    "Term Frequency times Inverse Document Frequency (tf-idf)\n",
    "For more details please see -https://en.wikipedia.org/wiki/Tf–idf\n",
    "\n",
    "For improving performance of our model we shrink the vocabulary by removing stopwords from the \"english\" library which will remove some redunadant words \"a\", \"the\", \"about\"\n"
   ]
  },
  {
   "cell_type": "code",
   "execution_count": 61,
   "metadata": {},
   "outputs": [],
   "source": [
    "def plot_confusion_matrix(cm,target_names,title='Confusion matrix',normalize=True):\n",
    "    cmap = plt.get_cmap('Reds')\n",
    "    plt.figure(figsize=(8, 6))\n",
    "    plt.imshow(cm, interpolation='nearest', cmap=cmap)\n",
    "    if target_names is not None:\n",
    "        tick_marks = np.arange(len(target_names))\n",
    "        plt.xticks(tick_marks, target_names)\n",
    "        plt.yticks(tick_marks, target_names)\n",
    "\n",
    "    if normalize:\n",
    "        cm = cm.astype('float') / cm.sum(axis=1)[:, np.newaxis]\n",
    "    thresh = cm.max() / 1.5 if normalize else cm.max() / 2\n",
    "    for i, j in itertools.product(range(cm.shape[0]), range(cm.shape[1])):\n",
    "        if normalize:\n",
    "            plt.text(j, i, \"{:0.4f}\".format(cm[i, j]),\n",
    "                     horizontalalignment=\"center\",\n",
    "                     color=\"white\"\n",
    "                     if cm[i, j] > thresh else \"black\")\n",
    "        \n",
    "        else:\n",
    "            plt.text(j, i, \"{:,}\".format(cm[i, j]),\n",
    "                     horizontalalignment=\"center\",\n",
    "                     color=\"white\" if cm[i, j] > thresh else \"black\")\n",
    "    plt.ylabel('True label')\n",
    "    plt.xlabel('Predicted label')\n",
    "    plt.show()"
   ]
  },
  {
   "cell_type": "markdown",
   "metadata": {},
   "source": [
    "## Support Vector Machine"
   ]
  },
  {
   "cell_type": "code",
   "execution_count": 64,
   "metadata": {},
   "outputs": [
    {
     "name": "stdout",
     "output_type": "stream",
     "text": [
      "Best parameters set: {'C': 1, 'kernel': 'linear'}\n",
      "Grid scores on every set of parameters:\n",
      "\n",
      "0.754 (+/-0.0075) for {'C': 1, 'kernel': 'linear'}\n",
      "0.726 (+/-0.0032) for {'C': 10, 'kernel': 'linear'}\n",
      "0.708 (+/-0.0228) for {'C': 100, 'kernel': 'linear'}\n",
      "0.621 (+/-0.0003) for {'C': 1, 'gamma': 0.01, 'kernel': 'rbf'}\n",
      "0.621 (+/-0.0003) for {'C': 1, 'gamma': 0.001, 'kernel': 'rbf'}\n",
      "0.621 (+/-0.0003) for {'C': 1, 'gamma': 0.0001, 'kernel': 'rbf'}\n",
      "0.672 (+/-0.0043) for {'C': 10, 'gamma': 0.01, 'kernel': 'rbf'}\n",
      "0.621 (+/-0.0003) for {'C': 10, 'gamma': 0.001, 'kernel': 'rbf'}\n",
      "0.621 (+/-0.0003) for {'C': 10, 'gamma': 0.0001, 'kernel': 'rbf'}\n",
      "0.747 (+/-0.0040) for {'C': 100, 'gamma': 0.01, 'kernel': 'rbf'}\n",
      "0.673 (+/-0.0046) for {'C': 100, 'gamma': 0.001, 'kernel': 'rbf'}\n",
      "0.621 (+/-0.0003) for {'C': 100, 'gamma': 0.0001, 'kernel': 'rbf'}\n",
      "0.716 (+/-0.0064) for {'C': 1000, 'gamma': 0.01, 'kernel': 'rbf'}\n",
      "0.747 (+/-0.0048) for {'C': 1000, 'gamma': 0.001, 'kernel': 'rbf'}\n",
      "0.673 (+/-0.0048) for {'C': 1000, 'gamma': 0.0001, 'kernel': 'rbf'}\n",
      "\n",
      "Classification report:\n",
      "             precision    recall  f1-score   support\n",
      "\n",
      "   negative       0.82      0.91      0.86      4634\n",
      "    neutral       0.62      0.47      0.53      1510\n",
      "   positive       0.76      0.65      0.70      1176\n",
      "\n",
      "avg / total       0.77      0.78      0.77      7320\n",
      "\n",
      "Test accuracy: 0.7788251366120219\n",
      "          negative  neutral  positive\n",
      "negative      4225      302       107\n",
      "neutral        668      707       135\n",
      "positive       273      134       769\n"
     ]
    },
    {
     "data": {
      "image/png": "[encoded data removed]",
      "text/plain": [
       "<Figure size 576x432 with 1 Axes>"
      ]
     },
     "metadata": {},
     "output_type": "display_data"
    }
   ],
   "source": [
    "parameters = [{'kernel': ['linear'], 'C': [1, 10, 100]},\\\n",
    "              {'kernel': ['rbf'], 'gamma': [1e-2,1e-3, 1e-4],'C': [1, 10, 100, 1000]}]\n",
    "\n",
    "tfidf=TfidfVectorizer(stop_words='english')\n",
    "clf=GridSearchCV(SVC(),parameters,cv=2,refit=True)\n",
    "model= make_pipeline(tfidf,clf)\n",
    "model.fit(X_train, y_train)\n",
    "\n",
    "\n",
    "\n",
    "print(\"Best parameters set:\",clf.best_params_)\n",
    "print(\"Grid scores on every set of parameters:\")\n",
    "print()\n",
    "means = clf.cv_results_['mean_test_score']\n",
    "stds = clf.cv_results_['std_test_score']\n",
    "for mean, std, params in zip(means, stds, clf.cv_results_['params']):\n",
    "    print(\"%0.3f (+/-%0.04f) for %r\"\n",
    "              % (mean, std * 2, params))\n",
    "    \n",
    "    \n",
    "print()\n",
    "print(\"Classification report:\")\n",
    "y_pred = model.predict(X_test)\n",
    "print(classification_report(y_test, y_pred))\n",
    "print(\"Test accuracy:\",accuracy_score(y_test, y_pred))\n",
    "labels = model.classes_\n",
    "matrix = confusion_matrix(y_test,y_pred)\n",
    "print(pd.DataFrame(matrix,columns=labels, index=labels))\n",
    "plot_confusion_matrix(matrix,labels)"
   ]
  },
  {
   "cell_type": "markdown",
   "metadata": {},
   "source": [
    "We obtain 78 % accuracy using linear SVM."
   ]
  },
  {
   "cell_type": "markdown",
   "metadata": {},
   "source": [
    "## Random Forest Classifier"
   ]
  },
  {
   "cell_type": "code",
   "execution_count": 67,
   "metadata": {},
   "outputs": [
    {
     "name": "stdout",
     "output_type": "stream",
     "text": [
      "Best parameters set: {'criterion': 'entropy', 'max_depth': None, 'max_features': 10, 'n_estimators': 300}\n",
      "Grid scores on every set of parameters:\n",
      "\n",
      "0.718 (+/-0.005) for {'criterion': 'gini', 'max_depth': None, 'max_features': 1, 'n_estimators': 50}\n",
      "0.722 (+/-0.006) for {'criterion': 'gini', 'max_depth': None, 'max_features': 1, 'n_estimators': 250}\n",
      "0.723 (+/-0.000) for {'criterion': 'gini', 'max_depth': None, 'max_features': 1, 'n_estimators': 300}\n",
      "0.723 (+/-0.002) for {'criterion': 'gini', 'max_depth': None, 'max_features': 3, 'n_estimators': 50}\n",
      "0.720 (+/-0.007) for {'criterion': 'gini', 'max_depth': None, 'max_features': 3, 'n_estimators': 250}\n",
      "0.721 (+/-0.003) for {'criterion': 'gini', 'max_depth': None, 'max_features': 3, 'n_estimators': 300}\n",
      "0.720 (+/-0.006) for {'criterion': 'gini', 'max_depth': None, 'max_features': 10, 'n_estimators': 50}\n",
      "0.722 (+/-0.005) for {'criterion': 'gini', 'max_depth': None, 'max_features': 10, 'n_estimators': 250}\n",
      "0.722 (+/-0.001) for {'criterion': 'gini', 'max_depth': None, 'max_features': 10, 'n_estimators': 300}\n",
      "0.718 (+/-0.010) for {'criterion': 'entropy', 'max_depth': None, 'max_features': 1, 'n_estimators': 50}\n",
      "0.722 (+/-0.003) for {'criterion': 'entropy', 'max_depth': None, 'max_features': 1, 'n_estimators': 250}\n",
      "0.721 (+/-0.001) for {'criterion': 'entropy', 'max_depth': None, 'max_features': 1, 'n_estimators': 300}\n",
      "0.718 (+/-0.005) for {'criterion': 'entropy', 'max_depth': None, 'max_features': 3, 'n_estimators': 50}\n",
      "0.720 (+/-0.001) for {'criterion': 'entropy', 'max_depth': None, 'max_features': 3, 'n_estimators': 250}\n",
      "0.723 (+/-0.006) for {'criterion': 'entropy', 'max_depth': None, 'max_features': 3, 'n_estimators': 300}\n",
      "0.723 (+/-0.003) for {'criterion': 'entropy', 'max_depth': None, 'max_features': 10, 'n_estimators': 50}\n",
      "0.724 (+/-0.009) for {'criterion': 'entropy', 'max_depth': None, 'max_features': 10, 'n_estimators': 250}\n",
      "0.726 (+/-0.007) for {'criterion': 'entropy', 'max_depth': None, 'max_features': 10, 'n_estimators': 300}\n",
      "\n",
      "Classification report:\n",
      "             precision    recall  f1-score   support\n",
      "\n",
      "   negative       0.76      0.96      0.85      4634\n",
      "    neutral       0.67      0.38      0.48      1510\n",
      "   positive       0.81      0.44      0.57      1176\n",
      "\n",
      "avg / total       0.75      0.76      0.73      7320\n",
      "\n",
      "Test accuracy: 0.7568306010928961\n",
      "          negative  neutral  positive\n",
      "negative      4456      151        27\n",
      "neutral        850      567        93\n",
      "positive       533      126       517\n"
     ]
    },
    {
     "data": {
      "image/png": "[encoded data removed]",
      "text/plain": [
       "<Figure size 576x432 with 1 Axes>"
      ]
     },
     "metadata": {},
     "output_type": "display_data"
    }
   ],
   "source": [
    "parameters = {\"max_depth\": [None],\"max_features\": [1,3,10],\n",
    "              \"criterion\": [\"gini\", \"entropy\"],\"n_estimators\":[50,250,300]}\n",
    "tfidf=TfidfVectorizer(stop_words='english')\n",
    "clf=GridSearchCV(RandomForestClassifier(),param_grid=parameters,cv=2,refit=True)\n",
    "model= make_pipeline(tfidf,clf)\n",
    "model.fit(X_train, y_train)\n",
    "\n",
    "\n",
    "\n",
    "print(\"Best parameters set:\",clf.best_params_)\n",
    "print(\"Grid scores on every set of parameters:\")\n",
    "print()\n",
    "means = clf.cv_results_['mean_test_score']\n",
    "stds = clf.cv_results_['std_test_score']\n",
    "for mean, std, params in zip(means, stds, clf.cv_results_['params']):\n",
    "    print(\"%0.3f (+/-%0.03f) for %r\"\n",
    "              % (mean, std * 2, params))\n",
    "    \n",
    "    \n",
    "print()\n",
    "print(\"Classification report:\")\n",
    "y_pred = model.predict(X_test)\n",
    "print(classification_report(y_test, y_pred))\n",
    "print(\"Test accuracy:\",accuracy_score(y_test, y_pred))\n",
    "labels = model.classes_\n",
    "matrix = confusion_matrix(y_test,y_pred)\n",
    "print(pd.DataFrame(matrix,columns=labels, index=labels))\n",
    "plot_confusion_matrix(matrix,labels)"
   ]
  },
  {
   "cell_type": "code",
   "execution_count": null,
   "metadata": {},
   "outputs": [],
   "source": []
  },
  {
   "cell_type": "code",
   "execution_count": null,
   "metadata": {},
   "outputs": [],
   "source": []
  },
  {
   "cell_type": "code",
   "execution_count": null,
   "metadata": {},
   "outputs": [],
   "source": []
  },
  {
   "cell_type": "code",
   "execution_count": null,
   "metadata": {},
   "outputs": [],
   "source": []
  },
  {
   "cell_type": "code",
   "execution_count": null,
   "metadata": {},
   "outputs": [],
   "source": []
  },
  {
   "cell_type": "code",
   "execution_count": null,
   "metadata": {},
   "outputs": [],
   "source": []
  },
  {
   "cell_type": "code",
   "execution_count": null,
   "metadata": {},
   "outputs": [],
   "source": []
  },
  {
   "cell_type": "code",
   "execution_count": null,
   "metadata": {},
   "outputs": [],
   "source": []
  },
  {
   "cell_type": "code",
   "execution_count": null,
   "metadata": {},
   "outputs": [],
   "source": []
  }
 ],
 "metadata": {
  "kernelspec": {
   "display_name": "Python 3",
   "language": "python",
   "name": "python3"
  },
  "language_info": {
   "codemirror_mode": {
    "name": "ipython",
    "version": 3
   },
   "file_extension": ".py",
   "mimetype": "text/x-python",
   "name": "python",
   "nbconvert_exporter": "python",
   "pygments_lexer": "ipython3",
   "version": "3.7.0"
  }
 },
 "nbformat": 4,
 "nbformat_minor": 2
}
